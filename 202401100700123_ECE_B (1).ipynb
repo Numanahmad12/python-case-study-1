{
  "nbformat": 4,
  "nbformat_minor": 0,
  "metadata": {
    "colab": {
      "provenance": []
    },
    "kernelspec": {
      "name": "python3",
      "display_name": "Python 3"
    },
    "language_info": {
      "name": "python"
    }
  },
  "cells": [
    {
      "cell_type": "markdown",
      "source": [
        "grocery store calculator\n"
      ],
      "metadata": {
        "id": "Ldqu6WNERKPL"
      }
    },
    {
      "cell_type": "code",
      "execution_count": null,
      "metadata": {
        "colab": {
          "base_uri": "https://localhost:8080/"
        },
        "id": "BiK0gmLHQhmG",
        "outputId": "1de25ac2-a2ea-439f-fbf9-e1406acf77f0"
      },
      "outputs": [
        {
          "name": "stdout",
          "output_type": "stream",
          "text": [
            "Enter the number of items: 5\n",
            "Enter the name of item 1: hello\n",
            "Enter the price of item 1: 2\n"
          ]
        }
      ],
      "source": [
        "from tabulate import tabulate\n",
        "\n",
        "gst_rate = 18.0\n",
        "discount_rate = 5.0\n",
        "\n",
        "a = int(input(\"Enter the number of items: \"))\n",
        "total_cost = 0\n",
        "extra_discount_amount = 0\n",
        "items = []\n",
        "\n",
        "for i in range(a):\n",
        "    item_name = input(f\"Enter the name of item {i+1}: \")\n",
        "    price = float(input(f\"Enter the price of item {i+1}: \"))\n",
        "    items.append([item_name, price])\n",
        "    total_cost += price\n",
        "\n",
        "gst_amount = total_cost * (gst_rate / 100)\n",
        "total_cost += gst_amount\n",
        "discount_amount = total_cost * (discount_rate / 100)\n",
        "total_cost -= discount_amount\n",
        "\n",
        "if total_cost >= 5000:\n",
        "    extra_discount_rate = float(input(\"Enter the extra discount rate: \"))\n",
        "    extra_discount_amount = total_cost * (extra_discount_rate / 100)\n",
        "    total_cost -= extra_discount_amount\n",
        "print(tabulate(items, headers=[\"Item Name\", \"Price\"], tablefmt=\"grid\"))\n",
        "print(f\"The total cost after GST is: {total_cost + gst_amount:.2f}\")\n",
        "print(f\"The total discount amount is: {discount_amount + extra_discount_amount:.2f}\")\n",
        "print(f\"The final total cost is: {total_cost:.2f}\")"
      ]
    }
  ]
}